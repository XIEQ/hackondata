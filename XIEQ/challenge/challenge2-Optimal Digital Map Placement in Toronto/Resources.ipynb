{
 "cells": [
  {
   "cell_type": "markdown",
   "metadata": {},
   "source": [
    "## Packages\n",
    "\n",
    "* Numpy\n",
    "* Matplotlib\n",
    "* Pandas\n",
    "* sklearn\n",
    "* seaborn\n",
    "* plotly\n",
    "* folium\n",
    "* [geopy](https://github.com/geopy/geopy)\n",
    "* shapely\n",
    "* geopandas\n",
    "\n",
    "\n",
    "## Reference\n",
    "\n",
    "[Geoff Boeing-Urban Planning](http://geoffboeing.com/) \n",
    "\n",
    "[Folium](https://folium.readthedocs.io/en/latest/#) and [on Github](https://github.com/python-visualization/folium)\n",
    "\n",
    "[Python & JSON: Working with large datasets using Pandas](https://www.dataquest.io/blog/python-json-tutorial/) - Have examples on using Folium for visualization\n",
    "\n",
    "[Clustering to Reduce Spatial Data Set Siza](http://geoffboeing.com/2014/08/clustering-to-reduce-spatial-data-set-size/) - Examples on DBSCAN clustering for geo data. [Notebook](https://github.com/gboeing/2014-summer-travels/blob/master/clustering-scikitlearn.ipynb)\n",
    "\n",
    "[How to Visualize Urban Accessibility and Walkability](http://geoffboeing.com/2016/07/visualize-urban-accessibility-walkability/)\n",
    "\n",
    "[urban data science](https://github.com/gboeing/urban-data-science)\n",
    "\n",
    "\n",
    "\n",
    "## Open Data\n",
    "\n",
    "[TranQuant](http://tranquant.com/)\n",
    "\n",
    "[Toronto Open data](https://github.com/gboeing/urban-data-science)\n",
    "\n",
    "[Toronto Open Data-culture and tourism](http://www1.toronto.ca/wps/portal/contentonly?vgnextoid=8896e03bb8d1e310VgnVCM10000071d60f89RCRD)\n",
    "\n",
    "[Cultural Spaces Data](http://www1.toronto.ca/wps/portal/contentonly?vgnextoid=4f6bdda2f1405410VgnVCM10000071d60f89RCRD&vgnextchannel=8896e03bb8d1e310VgnVCM10000071d60f89RCRD) - Used in our challenge\n",
    "\n",
    "[Signalized Intersection Traffic and Pedestrian Volume](http://www1.toronto.ca/wps/portal/contentonly?vgnextoid=417aed3c99cc7310VgnVCM1000003dd60f89RCRD) - Used in our challenge\n",
    "\n",
    "[Address Points (Municipal) - Toronto One Address Repository](http://www1.toronto.ca/wps/portal/contentonly?vgnextoid=91415f9cd70bb210VgnVCM1000003dd60f89RCRD)\n",
    "\n",
    "[Transportation](http://www1.toronto.ca/wps/portal/contentonly?vgnextoid=7807e03bb8d1e310VgnVCM10000071d60f89RCRD)\n",
    "\n",
    "[Intersection File - City of Toronto](http://www1.toronto.ca/wps/portal/contentonly?vgnextoid=e659522373c20410VgnVCM10000071d60f89RCRD&vgnextchannel=7807e03bb8d1e310VgnVCM10000071d60f89RCRD)\n",
    "\n",
    "[Toronto Maps](http://www1.toronto.ca/wps/portal/contentonly?vgnextoid=15dede0230460410VgnVCM10000071d60f89RCRD)\n",
    "\n",
    "## Links\n",
    "[Making Space for Culture](http://www1.toronto.ca/wps/portal/contentonly?vgnextoid=0e0d59f2395c0410VgnVCM10000071d60f89RCRD&vgnextchannel=ecc92271635af310VgnVCM10000071d60f89RCRD)\n",
    "\n",
    "[Toronto Demographics](http://www1.toronto.ca/wps/portal/contentonly?vgnextoid=1e68f40f9aae0410VgnVCM10000071d60f89RCRD&WT.rd_id=demographics)\n",
    "\n",
    "[Wellbeing Toronto](http://map.toronto.ca/wellbeing/#eyJ0b3Itd2lkZ2V0LWNsYXNzYnJlYWsiOsSAcGVyY2VudE9wYWNpdHnElzcwfSwiY3VzxIJtYcSTYcSXxIBuZWlnaGJvdXJob29kc8S2fcSrxIHEg8SFxIfEicSLdGFixYXEmCLEo3RpdmVUxZBJZMSXxYnEhMWPYi1pbmRpY2HEgnLFhcWIYWdzTWFwxLYiesWCbcSXMTPErHjEly04ODM0MzU1Ljc4MDk2MsSsxKc6NcaDMcW6NsaHMTI4MjcyxYjFpMWmxajFqsWSxIDFmMWraW9uxJfGjSJzxaRnbGXFtMSucsSTxJ9UaW1lxZzGqcSsxZbGuMaiIjLFtMaexafFqcSDxZxzQcWlV8S5xLt0xZJbxIDEh8WeNzMixKx3x4xodMW5xKzEk8akc2VQb8SOcsSlxo9mYWzHoH1dxYfFiMa9Zcegx6XHscWGxKzGssa0dEnFpceExapNxYPGsDrGq8atxq8ixYc%3D)\n",
    "\n",
    "## Others\n",
    "\n",
    "[UnicodeDecodeError](http://stackoverflow.com/questions/10406135/unicodedecodeerror-ascii-codec-cant-decode-byte-0xd1-in-position-2-ordinal)\n",
    "\n",
    "http://stackoverflow.com/questions/32232067/cluster-points-after-kmeans-clustering-scikit-learn"
   ]
  },
  {
   "cell_type": "code",
   "execution_count": null,
   "metadata": {
    "collapsed": true
   },
   "outputs": [],
   "source": []
  }
 ],
 "metadata": {
  "kernelspec": {
   "display_name": "Python [Root]",
   "language": "python",
   "name": "Python [Root]"
  },
  "language_info": {
   "codemirror_mode": {
    "name": "ipython",
    "version": 2
   },
   "file_extension": ".py",
   "mimetype": "text/x-python",
   "name": "python",
   "nbconvert_exporter": "python",
   "pygments_lexer": "ipython2",
   "version": "2.7.12"
  }
 },
 "nbformat": 4,
 "nbformat_minor": 0
}
